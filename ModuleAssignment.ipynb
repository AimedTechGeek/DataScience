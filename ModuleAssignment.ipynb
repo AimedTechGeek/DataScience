{
 "cells": [
  {
   "cell_type": "markdown",
   "id": "d4ec3375-143d-43e5-846e-2db6c7f9df09",
   "metadata": {
    "tags": []
   },
   "source": [
    "# My Jupyter Notebook on IBM Watson Studio"
   ]
  },
  {
   "cell_type": "markdown",
   "id": "10671af0-d915-4166-a4d7-79352000c27f",
   "metadata": {},
   "source": [
    "**Shiva Kumar Kanuganti** <br> Senior Software Engineer"
   ]
  },
  {
   "cell_type": "markdown",
   "id": "55a8049d-885a-49d2-b535-ea9cddc92519",
   "metadata": {},
   "source": [
    "*Data science is center for all the new branches of modern technological progress interms of making human life better and efficient. <br> Learn from history and do it easy or better now*"
   ]
  },
  {
   "cell_type": "markdown",
   "id": "89babce9-2d12-49eb-aa66-01924016b67f",
   "metadata": {
    "tags": []
   },
   "source": [
    "### Code below is a simple code to print sum of numbers using a method"
   ]
  },
  {
   "cell_type": "code",
   "execution_count": null,
   "id": "9b0f630d-6149-4b58-9748-553c430b8aff",
   "metadata": {},
   "outputs": [
    {
     "data": {
      "text/plain": [
       "30"
      ]
     },
     "execution_count": 3,
     "metadata": {},
     "output_type": "execute_result"
    }
   ],
   "source": [
    "def Add(a, b):\n",
    "    return a+b\n",
    "Add(10,20)"
   ]
  },
  {
   "cell_type": "markdown",
   "id": "de334dec-cd17-47d0-9dc1-69aa1816752c",
   "metadata": {},
   "source": [
    "- Languages\n",
    "    * English\n",
    "    * French\n",
    "    * German\n",
    "1. Cusines\n",
    "    1. Asian\n",
    "        2. Chinese\n",
    "        3. Indian\n",
    "    2. European\n",
    "        1. Italian\n",
    "        2. Greek\n",
    "\n",
    "<del>Not an End<del>"
   ]
  }
 ],
 "metadata": {
  "kernelspec": {
   "display_name": "Python 3 (ipykernel)",
   "language": "python",
   "name": "python3"
  },
  "language_info": {
   "codemirror_mode": {
    "name": "ipython",
    "version": 3
   },
   "file_extension": ".py",
   "mimetype": "text/x-python",
   "name": "python",
   "nbconvert_exporter": "python",
   "pygments_lexer": "ipython3",
   "version": "3.10.6"
  }
 },
 "nbformat": 4,
 "nbformat_minor": 5
}
